{
 "cells": [
  {
   "cell_type": "markdown",
   "metadata": {},
   "source": [
    "# Target Sistemas - 2 Técnica"
   ]
  },
  {
   "cell_type": "markdown",
   "metadata": {},
   "source": [
    "1) Observe o trecho de código abaixo: int INDICE = 13, SOMA = 0, K = 0;  Enquanto K < INDICE faça { K = K + 1; SOMA = SOMA + K; } Imprimir(SOMA);  Ao final do processamento, qual será o valor da variável SOMA?   \n",
    "2) Dado a sequência de Fibonacci, onde se inicia por 0 e 1 e o próximo valor sempre será a soma dos 2 valores anteriores (exemplo: 0, 1, 1, 2, 3, 5, 8, 13, 21, 34...), escreva um programa na linguagem que desejar onde, informado um número, ele calcule a sequência de Fibonacci e retorne uma mensagem avisando se o número informado pertence ou não a sequência.   IMPORTANTE: Esse número pode ser informado através de qualquer entrada de sua preferência ou pode ser previamente definido no código;   \n",
    "3) Dado um vetor que guarda o valor de faturamento diário de uma distribuidora, faça um programa, na linguagem que desejar, que calcule e retorne:  • O menor valor de faturamento ocorrido em um dia do mês;  • O maior valor de faturamento ocorrido em um dia do mês;  • Número de dias no mês em que o valor de faturamento diário foi superior à média mensal.   IMPORTANTE:  \n",
    "    <br>a) Usar o json ou xml disponível como fonte dos dados do faturamento mensal;  \n",
    "    b) Podem existir dias sem faturamento, como nos finais de semana e feriados. Estes dias devem ser ignorados no cálculo da média;   \n",
    "4) Dado o valor de faturamento mensal de uma distribuidora, detalhado por estado:  • SP – R$67.836,43  • RJ – R$36.678,66  • MG – R$29.229,88  • ES – R$27.165,48  • Outros – R$19.849,53   Escreva um programa na linguagem que desejar onde calcule o percentual de representação que cada estado teve dentro do valor total mensal da distribuidora.    \n",
    "5) Escreva um programa que inverta os caracteres de um string.   IMPORTANTE:  \n",
    "    <br>a) Essa string pode ser informada através de qualquer entrada de sua preferência ou pode ser previamente definida no código;  \n",
    "    b) Evite usar funções prontas, como, por exemplo, reverse;   \n",
    "    \n",
    "NÃO SE ESQUEÇA DE INSERIR O [LINK DO SEU REPOSITÓRIO](https://github.com/feed0/target-sys) NO GITHUB COM O CÓDIGO FONTE QUE VOCÊ DESENVOLVEU\n",
    "\n"
   ]
  },
  {
   "cell_type": "markdown",
   "metadata": {},
   "source": [
    "## 1 Observe o trecho de código abaixo:\n",
    "\n",
    "    int INDICE = 13, SOMA = 0, K = 0;\n",
    "    \n",
    "    Enquanto K < INDICE faça {\n",
    "        K = K + 1;\n",
    "        SOMA = SOMA + K;\n",
    "    }\n",
    "    \n",
    "    Imprimir(SOMA);\n",
    "\n",
    "Ao final do processamento, qual será o valor da variável SOMA?   "
   ]
  },
  {
   "cell_type": "code",
   "execution_count": 1,
   "metadata": {},
   "outputs": [
    {
     "name": "stdout",
     "output_type": "stream",
     "text": [
      "Soma ao final: 91\n"
     ]
    }
   ],
   "source": [
    "# 1 Qual o valor final de soma?\n",
    "indice: int = 13\n",
    "soma: int = 0\n",
    "k: int = 0\n",
    "\n",
    "while k < indice:\n",
    "    k += 1\n",
    "    soma += k\n",
    "\n",
    "print(f'Soma ao final: {soma}')"
   ]
  },
  {
   "cell_type": "markdown",
   "metadata": {},
   "source": [
    "## 2 Dado a sequência de Fibonacci,\n",
    "onde se inicia por 0 e 1 e o próximo valor sempre será a soma dos 2 valores anteriores (exemplo: 0, 1, 1, 2, 3, 5, 8, 13, 21, 34...), escreva um programa na linguagem que desejar onde, informado um número, ele calcule a sequência de Fibonacci e retorne uma mensagem avisando se o número informado pertence ou não a sequência.   \n",
    "\n",
    "    IMPORTANTE: Esse número pode ser informado através de qualquer entrada de sua preferência ou pode ser previamente definido no código;"
   ]
  },
  {
   "cell_type": "code",
   "execution_count": 2,
   "metadata": {},
   "outputs": [
    {
     "name": "stdout",
     "output_type": "stream",
     "text": [
      "O número 4 NÃO pertence à sequência de Fibonacci.\n"
     ]
    }
   ],
   "source": [
    "# 2\n",
    "\n",
    "# Informe um numero. (INPUT)\n",
    "# Calcule a sequencia até o numero informado ou o um que seja imediatamente maior.\n",
    "# num pertence a sequencia ?\n",
    "\n",
    "# 2.1 definir a função\n",
    "def is_in_fibonacci(num: int) -> bool:\n",
    "    '''\n",
    "    Verifica se um número pertence a sequência de Fibonacci.\n",
    "    \n",
    "    Args:\n",
    "        num (int): Número a ser verificado.\n",
    "        \n",
    "    Returns:\n",
    "        bool: True se o número pertencer à sequência de Fibonacci, False caso contrário.\n",
    "    '''\n",
    "\n",
    "    # Casos base \n",
    "    #   (num < 0)\n",
    "    if num < 0:\n",
    "        return False\n",
    "    \n",
    "    #   (0 ou 1)\n",
    "    if num == 0 or num == 1:\n",
    "        return True\n",
    "\n",
    "    # Caso geral (num > 1)\n",
    "    fibonaccis = [0, 1, 1]\n",
    "\n",
    "    gen_fib: int = 0\n",
    "    while gen_fib < num:\n",
    "        \n",
    "        last_fib: int        = fibonaccis[-1]\n",
    "        second_last_fib: int = fibonaccis[-2]\n",
    "\n",
    "        gen_fib = last_fib + second_last_fib\n",
    "\n",
    "        fibonaccis.append(gen_fib)\n",
    "\n",
    "    return num in fibonaccis\n",
    "\n",
    "# 2.2 testar a função\n",
    "assert is_in_fibonacci(-1) == False\n",
    "assert is_in_fibonacci(0) == True\n",
    "assert is_in_fibonacci(1) == True\n",
    "assert is_in_fibonacci(2) == True\n",
    "assert is_in_fibonacci(3) == True\n",
    "assert is_in_fibonacci(4) == False\n",
    "assert is_in_fibonacci(5) == True\n",
    "\n",
    "# 2.3 perguntar ao usuário\n",
    "num: int = int(input('Informe um número a ser buscado em Fibonacci: '))\n",
    "if is_in_fibonacci(num):\n",
    "    print(f'O número {num} pertence à sequência de Fibonacci.')\n",
    "else:\n",
    "    print(f'O número {num} NÃO pertence à sequência de Fibonacci.')"
   ]
  },
  {
   "cell_type": "markdown",
   "metadata": {},
   "source": [
    "## 3 Dado um vetor que guarda o valor de faturamento diário de uma distribuidora,\n",
    "\n",
    "Faça um programa, na linguagem que desejar, que calcule e retorne:  \n",
    "    \n",
    "    • O menor valor de faturamento ocorrido em um dia do mês;\n",
    "    • O maior valor de faturamento ocorrido em um dia do mês;\n",
    "    • Número de dias no mês em que o valor de faturamento diário foi superior à média mensal.   \n",
    "    \n",
    "IMPORTANTE:  \n",
    "\n",
    "    a) Usar o json ou xml disponível como fonte dos dados do faturamento mensal;  \n",
    "    b) Podem existir dias sem faturamento, como nos finais de semana e feriados. Estes dias devem ser ignorados no cálculo da média;   "
   ]
  },
  {
   "cell_type": "code",
   "execution_count": 3,
   "metadata": {},
   "outputs": [],
   "source": [
    "# 3.1 Adicionar o elemento raiz (<data> </data>) no arquivo dados2.xml"
   ]
  },
  {
   "cell_type": "code",
   "execution_count": 4,
   "metadata": {},
   "outputs": [],
   "source": [
    "import pandas as pd"
   ]
  },
  {
   "cell_type": "code",
   "execution_count": 5,
   "metadata": {},
   "outputs": [
    {
     "data": {
      "text/html": [
       "<div>\n",
       "<style scoped>\n",
       "    .dataframe tbody tr th:only-of-type {\n",
       "        vertical-align: middle;\n",
       "    }\n",
       "\n",
       "    .dataframe tbody tr th {\n",
       "        vertical-align: top;\n",
       "    }\n",
       "\n",
       "    .dataframe thead th {\n",
       "        text-align: right;\n",
       "    }\n",
       "</style>\n",
       "<table border=\"1\" class=\"dataframe\">\n",
       "  <thead>\n",
       "    <tr style=\"text-align: right;\">\n",
       "      <th></th>\n",
       "      <th>dia</th>\n",
       "      <th>valor</th>\n",
       "    </tr>\n",
       "  </thead>\n",
       "  <tbody>\n",
       "    <tr>\n",
       "      <th>0</th>\n",
       "      <td>1</td>\n",
       "      <td>31490.7866</td>\n",
       "    </tr>\n",
       "    <tr>\n",
       "      <th>1</th>\n",
       "      <td>2</td>\n",
       "      <td>37277.9400</td>\n",
       "    </tr>\n",
       "    <tr>\n",
       "      <th>2</th>\n",
       "      <td>3</td>\n",
       "      <td>37708.4303</td>\n",
       "    </tr>\n",
       "    <tr>\n",
       "      <th>3</th>\n",
       "      <td>4</td>\n",
       "      <td>0.0000</td>\n",
       "    </tr>\n",
       "    <tr>\n",
       "      <th>4</th>\n",
       "      <td>5</td>\n",
       "      <td>0.0000</td>\n",
       "    </tr>\n",
       "  </tbody>\n",
       "</table>\n",
       "</div>"
      ],
      "text/plain": [
       "   dia       valor\n",
       "0    1  31490.7866\n",
       "1    2  37277.9400\n",
       "2    3  37708.4303\n",
       "3    4      0.0000\n",
       "4    5      0.0000"
      ]
     },
     "execution_count": 5,
     "metadata": {},
     "output_type": "execute_result"
    }
   ],
   "source": [
    "# DataFrame\n",
    "faturamento_do_mes = pd.read_xml('/Users/felipecampelo/dev/projects/target-sys/data/dados2.xml')\n",
    "faturamento_do_mes.head()"
   ]
  },
  {
   "cell_type": "code",
   "execution_count": 6,
   "metadata": {},
   "outputs": [
    {
     "data": {
      "text/html": [
       "<div>\n",
       "<style scoped>\n",
       "    .dataframe tbody tr th:only-of-type {\n",
       "        vertical-align: middle;\n",
       "    }\n",
       "\n",
       "    .dataframe tbody tr th {\n",
       "        vertical-align: top;\n",
       "    }\n",
       "\n",
       "    .dataframe thead th {\n",
       "        text-align: right;\n",
       "    }\n",
       "</style>\n",
       "<table border=\"1\" class=\"dataframe\">\n",
       "  <thead>\n",
       "    <tr style=\"text-align: right;\">\n",
       "      <th></th>\n",
       "      <th>dia</th>\n",
       "      <th>valor</th>\n",
       "    </tr>\n",
       "  </thead>\n",
       "  <tbody>\n",
       "    <tr>\n",
       "      <th>3</th>\n",
       "      <td>4</td>\n",
       "      <td>0.0</td>\n",
       "    </tr>\n",
       "    <tr>\n",
       "      <th>4</th>\n",
       "      <td>5</td>\n",
       "      <td>0.0</td>\n",
       "    </tr>\n",
       "    <tr>\n",
       "      <th>6</th>\n",
       "      <td>7</td>\n",
       "      <td>0.0</td>\n",
       "    </tr>\n",
       "    <tr>\n",
       "      <th>10</th>\n",
       "      <td>11</td>\n",
       "      <td>0.0</td>\n",
       "    </tr>\n",
       "    <tr>\n",
       "      <th>11</th>\n",
       "      <td>12</td>\n",
       "      <td>0.0</td>\n",
       "    </tr>\n",
       "  </tbody>\n",
       "</table>\n",
       "</div>"
      ],
      "text/plain": [
       "    dia  valor\n",
       "3     4    0.0\n",
       "4     5    0.0\n",
       "6     7    0.0\n",
       "10   11    0.0\n",
       "11   12    0.0"
      ]
     },
     "execution_count": 6,
     "metadata": {},
     "output_type": "execute_result"
    }
   ],
   "source": [
    "# Faturamento 0 pode ser fim de seman ou feriado\n",
    "cond = faturamento_do_mes['valor'] == 0\n",
    "faturamento_0 = faturamento_do_mes[cond]\n",
    "faturamento_0.head()"
   ]
  },
  {
   "cell_type": "markdown",
   "metadata": {},
   "source": [
    "        • O menor valor de faturamento ocorrido em um dia do mês;\n",
    "\n"
   ]
  },
  {
   "cell_type": "code",
   "execution_count": 7,
   "metadata": {},
   "outputs": [
    {
     "name": "stdout",
     "output_type": "stream",
     "text": [
      "Menor fatura do mês: R$ 0.00\n",
      "Menor fatura util do mês: R$ 3071.33\n"
     ]
    }
   ],
   "source": [
    "# Menor valor do mes\n",
    "menor_fatura = faturamento_do_mes['valor'].min()\n",
    "print(f'Menor fatura do mês: R$ {menor_fatura:.2f}')\n",
    "\n",
    "# Menor fatura fora do fim de semana\n",
    "cond = faturamento_do_mes['valor'] != 0\n",
    "menor_fatura_util = faturamento_do_mes[cond]['valor'].min()\n",
    "print(f'Menor fatura util do mês: R$ {menor_fatura_util:.2f}')"
   ]
  },
  {
   "cell_type": "markdown",
   "metadata": {},
   "source": [
    "        • O maior valor de faturamento ocorrido em um dia do mês;\n"
   ]
  },
  {
   "cell_type": "code",
   "execution_count": 8,
   "metadata": {},
   "outputs": [
    {
     "name": "stdout",
     "output_type": "stream",
     "text": [
      "Maior fatura do mês: R$ 48275.30\n"
     ]
    }
   ],
   "source": [
    "# Maior valor do mes\n",
    "Maior_fatura = faturamento_do_mes['valor'].max()\n",
    "print(f'Maior fatura do mês: R$ {Maior_fatura:.2f}')"
   ]
  },
  {
   "cell_type": "markdown",
   "metadata": {},
   "source": [
    "        • Número de dias no mês em que o valor de faturamento diário foi superior à média mensal.   \n"
   ]
  },
  {
   "cell_type": "code",
   "execution_count": 9,
   "metadata": {},
   "outputs": [],
   "source": [
    "import seaborn as sns\n",
    "import matplotlib.pyplot as plt\n",
    "%matplotlib inline"
   ]
  },
  {
   "cell_type": "code",
   "execution_count": 10,
   "metadata": {},
   "outputs": [
    {
     "data": {
      "image/png": "[encoded data removed]",
      "text/plain": [
       "<Figure size 1200x600 with 1 Axes>"
      ]
     },
     "metadata": {},
     "output_type": "display_data"
    }
   ],
   "source": [
    "# Dias com faturamento acima da média\n",
    "media_valor = faturamento_do_mes['valor'].mean()\n",
    "cond = faturamento_do_mes['valor'] > media_valor\n",
    "num_dias_acima_media = faturamento_do_mes[cond].shape[0]\n",
    "\n",
    "plt.figure(figsize=(12, 6))\n",
    "plt.title(f'{num_dias_acima_media} dias com faturamento acima da média: R$ {media_valor:.2f}')\n",
    "sns.lineplot(data=faturamento_do_mes, x='dia', y='valor')\n",
    "\n",
    "# anotacoes dos dias no grafico\n",
    "for i, row in faturamento_do_mes.iterrows():\n",
    "    if row['valor'] > media_valor:\n",
    "        plt.annotate(\n",
    "            f\"{int(row['dia'])}\",\n",
    "            (row['dia'], row['valor']),\n",
    "            textcoords=\"offset points\", \n",
    "            xytext=(0,10),\n",
    "            ha='center',\n",
    "            weight='bold'\n",
    "        )\n",
    "\n",
    "# Linha da media\n",
    "plt.axhline(y=media_valor, color='r', linestyle='--')\n",
    "        \n",
    "plt.show()"
   ]
  },
  {
   "cell_type": "markdown",
   "metadata": {},
   "source": [
    "## 4 Dado o valor de faturamento mensal de uma distribuidora, detalhado por estado:\n",
    "    \n",
    "    • SP –     R$ 67.836,43  \n",
    "    • RJ –     R$ 36.678,66  \n",
    "    • MG –     R$ 29.229,88  \n",
    "    • ES –     R$ 27.165,48  \n",
    "    • Outros – R$ 19.849,53\n",
    "\n",
    "Escreva um programa na linguagem que desejar onde calcule o `percentual` de representação que cada estado teve dentro do valor total mensal da distribuidora.    "
   ]
  },
  {
   "cell_type": "code",
   "execution_count": 11,
   "metadata": {},
   "outputs": [
    {
     "data": {
      "text/html": [
       "<div>\n",
       "<style scoped>\n",
       "    .dataframe tbody tr th:only-of-type {\n",
       "        vertical-align: middle;\n",
       "    }\n",
       "\n",
       "    .dataframe tbody tr th {\n",
       "        vertical-align: top;\n",
       "    }\n",
       "\n",
       "    .dataframe thead th {\n",
       "        text-align: right;\n",
       "    }\n",
       "</style>\n",
       "<table border=\"1\" class=\"dataframe\">\n",
       "  <thead>\n",
       "    <tr style=\"text-align: right;\">\n",
       "      <th></th>\n",
       "      <th>Estado</th>\n",
       "      <th>Faturamento</th>\n",
       "    </tr>\n",
       "  </thead>\n",
       "  <tbody>\n",
       "    <tr>\n",
       "      <th>0</th>\n",
       "      <td>SP</td>\n",
       "      <td>6783643.00</td>\n",
       "    </tr>\n",
       "    <tr>\n",
       "      <th>1</th>\n",
       "      <td>RJ</td>\n",
       "      <td>36678.66</td>\n",
       "    </tr>\n",
       "    <tr>\n",
       "      <th>2</th>\n",
       "      <td>MG</td>\n",
       "      <td>29229.88</td>\n",
       "    </tr>\n",
       "    <tr>\n",
       "      <th>3</th>\n",
       "      <td>ES</td>\n",
       "      <td>27165.48</td>\n",
       "    </tr>\n",
       "    <tr>\n",
       "      <th>4</th>\n",
       "      <td>Outros</td>\n",
       "      <td>19849.53</td>\n",
       "    </tr>\n",
       "  </tbody>\n",
       "</table>\n",
       "</div>"
      ],
      "text/plain": [
       "   Estado  Faturamento\n",
       "0      SP   6783643.00\n",
       "1      RJ     36678.66\n",
       "2      MG     29229.88\n",
       "3      ES     27165.48\n",
       "4  Outros     19849.53"
      ]
     },
     "execution_count": 11,
     "metadata": {},
     "output_type": "execute_result"
    }
   ],
   "source": [
    "# DataFrame\n",
    "dados = {\n",
    "    'SP': 6783643,\n",
    "    'RJ': 36678.66,  \n",
    "    'MG': 29229.88,  \n",
    "    'ES': 27165.48,  \n",
    "    'Outros': 19849.53,\n",
    "}\n",
    "\n",
    "faturamento_estadual = pd.DataFrame(dados.items(), columns=['Estado', 'Faturamento'])\n",
    "faturamento_estadual"
   ]
  },
  {
   "cell_type": "code",
   "execution_count": 12,
   "metadata": {},
   "outputs": [
    {
     "data": {
      "text/html": [
       "<div>\n",
       "<style scoped>\n",
       "    .dataframe tbody tr th:only-of-type {\n",
       "        vertical-align: middle;\n",
       "    }\n",
       "\n",
       "    .dataframe tbody tr th {\n",
       "        vertical-align: top;\n",
       "    }\n",
       "\n",
       "    .dataframe thead th {\n",
       "        text-align: right;\n",
       "    }\n",
       "</style>\n",
       "<table border=\"1\" class=\"dataframe\">\n",
       "  <thead>\n",
       "    <tr style=\"text-align: right;\">\n",
       "      <th></th>\n",
       "      <th>Estado</th>\n",
       "      <th>Faturamento</th>\n",
       "      <th>Percentual</th>\n",
       "    </tr>\n",
       "  </thead>\n",
       "  <tbody>\n",
       "    <tr>\n",
       "      <th>0</th>\n",
       "      <td>SP</td>\n",
       "      <td>6783643.00</td>\n",
       "      <td>98.36</td>\n",
       "    </tr>\n",
       "    <tr>\n",
       "      <th>1</th>\n",
       "      <td>RJ</td>\n",
       "      <td>36678.66</td>\n",
       "      <td>0.53</td>\n",
       "    </tr>\n",
       "    <tr>\n",
       "      <th>2</th>\n",
       "      <td>MG</td>\n",
       "      <td>29229.88</td>\n",
       "      <td>0.42</td>\n",
       "    </tr>\n",
       "    <tr>\n",
       "      <th>3</th>\n",
       "      <td>ES</td>\n",
       "      <td>27165.48</td>\n",
       "      <td>0.39</td>\n",
       "    </tr>\n",
       "    <tr>\n",
       "      <th>4</th>\n",
       "      <td>Outros</td>\n",
       "      <td>19849.53</td>\n",
       "      <td>0.29</td>\n",
       "    </tr>\n",
       "  </tbody>\n",
       "</table>\n",
       "</div>"
      ],
      "text/plain": [
       "   Estado  Faturamento  Percentual\n",
       "0      SP   6783643.00       98.36\n",
       "1      RJ     36678.66        0.53\n",
       "2      MG     29229.88        0.42\n",
       "3      ES     27165.48        0.39\n",
       "4  Outros     19849.53        0.29"
      ]
     },
     "execution_count": 12,
     "metadata": {},
     "output_type": "execute_result"
    }
   ],
   "source": [
    "# Percentuais\n",
    "faturamento_total = faturamento_estadual['Faturamento'].sum()\n",
    "faturamento_estadual['Percentual'] = round((faturamento_estadual['Faturamento'] / faturamento_total) * 100, 2)\n",
    "faturamento_estadual"
   ]
  },
  {
   "cell_type": "markdown",
   "metadata": {},
   "source": [
    "## 5 Escreva um programa que `inverta` os caracteres de um string.   \n",
    "\n",
    "IMPORTANTE:  \n",
    "    \n",
    "    a) Essa string pode ser informada através de qualquer entrada de sua preferência ou pode ser previamente definida no código;  \n",
    "    b) Evite usar funções prontas, como, por exemplo, reverse;"
   ]
  },
  {
   "cell_type": "code",
   "execution_count": 13,
   "metadata": {},
   "outputs": [
    {
     "name": "stdout",
     "output_type": "stream",
     "text": [
      "A string invertida de \"Target Sistemas\" é: \"sametsiS tegraT\"\n"
     ]
    }
   ],
   "source": [
    "# Inversor\n",
    "def inverter_string(original: str) -> str:\n",
    "    '''\n",
    "    Inverte uma string.\n",
    "    \n",
    "    Args:\n",
    "        string (str): String a ser invertida.\n",
    "        \n",
    "    Returns:\n",
    "        str: String invertida.\n",
    "    '''\n",
    "\n",
    "    # Pythones\n",
    "    # return original[::-1]\n",
    "\n",
    "    # Javanes\n",
    "    reverse: str = ''\n",
    "    length: int = len(original)\n",
    "\n",
    "    last_index: int = length - 1\n",
    "\n",
    "    for i in range(last_index, -1, -1):\n",
    "        reverse += original[i]\n",
    "\n",
    "    return reverse\n",
    "\n",
    "# Testes\n",
    "assert inverter_string('abc') == 'cba'\n",
    "assert inverter_string('123') == '321'\n",
    "assert inverter_string('felipe') == 'epilef'\n",
    "assert inverter_string('target') == 'tegrat'\n",
    "\n",
    "# Com input\n",
    "original = input('Informe uma string para ser invertida: ')\n",
    "print(f'A string invertida de \"{original}\" é: \"{inverter_string(original)}\"')"
   ]
  }
 ],
 "metadata": {
  "kernelspec": {
   "display_name": ".venv",
   "language": "python",
   "name": "python3"
  },
  "language_info": {
   "codemirror_mode": {
    "name": "ipython",
    "version": 3
   },
   "file_extension": ".py",
   "mimetype": "text/x-python",
   "name": "python",
   "nbconvert_exporter": "python",
   "pygments_lexer": "ipython3",
   "version": "3.12.4"
  }
 },
 "nbformat": 4,
 "nbformat_minor": 2
}
